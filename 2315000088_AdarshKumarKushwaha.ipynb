{
 "cells": [
  {
   "cell_type": "markdown",
   "id": "4986a42d",
   "metadata": {},
   "source": [
    "# LangChain RAG Pipeline\n",
    "This notebook demonstrates how to build a RAG pipeline using LangChain, FAISS, and Ollama."
   ]
  },
  {
   "cell_type": "code",
   "execution_count": 1,
   "id": "e8a95a48",
   "metadata": {},
   "outputs": [],
   "source": [
    "from langchain.document_loaders import PyPDFLoader\n",
    "from langchain.text_splitter import CharacterTextSplitter\n",
    "from langchain_huggingface import HuggingFaceEmbeddings\n",
    "from langchain.vectorstores import FAISS\n",
    "from langchain_community.llms import Ollama\n",
    "from langchain.chains import RetrievalQA, LLMChain\n",
    "from langchain.prompts import PromptTemplate"
   ]
  },
  {
   "cell_type": "code",
   "execution_count": 2,
   "id": "d60ef5a5",
   "metadata": {},
   "outputs": [
    {
     "name": "stdout",
     "output_type": "stream",
     "text": [
      "Files in current folder: ['Conditionals.pdf', 'langchain_rag_pipeline.ipynb']\n"
     ]
    }
   ],
   "source": [
    "import os\n",
    "print(\"Files in current folder:\", os.listdir())\n"
   ]
  },
  {
   "cell_type": "markdown",
   "id": "4a8094f7",
   "metadata": {},
   "source": [
    "### Load and Split the Document"
   ]
  },
  {
   "cell_type": "code",
   "execution_count": 3,
   "id": "a84c1efd",
   "metadata": {},
   "outputs": [],
   "source": [
    "loader = PyPDFLoader(\"Conditionals.pdf\")\n",
    "pages = loader.load()\n",
    "\n",
    "splitter = CharacterTextSplitter(chunk_size=500, chunk_overlap=50)\n",
    "chunks = splitter.split_documents(pages)"
   ]
  },
  {
   "cell_type": "markdown",
   "id": "e2b4851c",
   "metadata": {},
   "source": [
    "### Create Embeddings and Vector Store"
   ]
  },
  {
   "cell_type": "code",
   "execution_count": 4,
   "id": "3f271aa1",
   "metadata": {},
   "outputs": [
    {
     "name": "stderr",
     "output_type": "stream",
     "text": [
      "C:\\Users\\Asus\\AppData\\Local\\Packages\\PythonSoftwareFoundation.Python.3.10_qbz5n2kfra8p0\\LocalCache\\local-packages\\Python310\\site-packages\\torch\\nn\\modules\\module.py:1762: FutureWarning: `encoder_attention_mask` is deprecated and will be removed in version 4.55.0 for `BertSdpaSelfAttention.forward`.\n",
      "  return forward_call(*args, **kwargs)\n"
     ]
    }
   ],
   "source": [
    "embedding_model = HuggingFaceEmbeddings(model_name=\"all-MiniLM-L6-v2\")\n",
    "vectorstore = FAISS.from_documents(chunks, embedding_model)\n",
    "retriever = vectorstore.as_retriever()"
   ]
  },
  {
   "cell_type": "markdown",
   "id": "1c52da0b",
   "metadata": {},
   "source": [
    "### Load Ollama LLM and Build RetrievalQA Chain"
   ]
  },
  {
   "cell_type": "code",
   "execution_count": 5,
   "id": "52481730",
   "metadata": {},
   "outputs": [
    {
     "name": "stderr",
     "output_type": "stream",
     "text": [
      "C:\\Users\\Asus\\AppData\\Local\\Temp\\ipykernel_5664\\2835201837.py:1: LangChainDeprecationWarning: The class `Ollama` was deprecated in LangChain 0.3.1 and will be removed in 1.0.0. An updated version of the class exists in the :class:`~langchain-ollama package and should be used instead. To use it run `pip install -U :class:`~langchain-ollama` and import as `from :class:`~langchain_ollama import OllamaLLM``.\n",
      "  llm = Ollama(model=\"mistral\")\n"
     ]
    }
   ],
   "source": [
    "llm = Ollama(model=\"mistral\")\n",
    "rag_chain = RetrievalQA.from_chain_type(llm=llm, retriever=retriever, return_source_documents=True)"
   ]
  },
  {
   "cell_type": "markdown",
   "id": "6cb39d24",
   "metadata": {},
   "source": [
    "### Ask Questions and View Retrieved Chunks"
   ]
  },
  {
   "cell_type": "code",
   "execution_count": 6,
   "id": "58fe77ec",
   "metadata": {},
   "outputs": [
    {
     "name": "stderr",
     "output_type": "stream",
     "text": [
      "C:\\Users\\Asus\\AppData\\Local\\Temp\\ipykernel_5664\\68419887.py:10: LangChainDeprecationWarning: The method `Chain.__call__` was deprecated in langchain 0.1.0 and will be removed in 1.0. Use :meth:`~invoke` instead.\n",
      "  result = rag_chain(q)\n",
      "C:\\Users\\Asus\\AppData\\Local\\Packages\\PythonSoftwareFoundation.Python.3.10_qbz5n2kfra8p0\\LocalCache\\local-packages\\Python310\\site-packages\\torch\\nn\\modules\\module.py:1762: FutureWarning: `encoder_attention_mask` is deprecated and will be removed in version 4.55.0 for `BertSdpaSelfAttention.forward`.\n",
      "  return forward_call(*args, **kwargs)\n"
     ]
    },
    {
     "name": "stdout",
     "output_type": "stream",
     "text": [
      "\n",
      "---\n",
      "Question: What verb tense is used in the conditional clause of a first conditional sentence?\n",
      "Answer:  The verb tense used in the conditional clause of a first conditional sentence is the present simple tense. For example, \"If it rains, we'll stay indoors.\"\n",
      "\n",
      "Source Chunks:\n",
      "Advanced & Post Reading Material (APRM) \n",
      "EPP- II, 2024-25 GLA U, Mathura \n",
      "Module-I(Verbal Skills) \n",
      "Conditionals\n",
      "1-If the weather improves , we’ll go for a \n",
      "walk. (It is possible or likely that the \n",
      "weather will improve.) \n",
      "2-If the weather improved , we could go for \n",
      "a walk. (It is not likely that th ...\n",
      "\n",
      "Advanced & Post Reading Material (APRM) \n",
      "EPP- II, 2024-25 GLA U, Mathura \n",
      "Module-I(Verbal Skills) \n",
      "Conditionals\n",
      "First and second conditional \n",
      "compared \n",
      "When we use the first conditional, we think \n",
      "the imagined situation is more likely to \n",
      "happen than when we use the second \n",
      "conditionals \n",
      "Compare \n",
      "Im ...\n",
      "\n",
      "Advanced & Post Reading Material (APRM) \n",
      "EPP- II, 2024-25 GLA U, Mathura \n",
      "Module-I(Verbal Skills) \n",
      "Conditionals\n",
      "Conditional sentences consist of a \n",
      "conditional clause and a main clause: \n",
      "1-[conditional clause] If a lot of people \n",
      "come, [main clause] we’ll have to get extra \n",
      "chairs. \n",
      "2-[conditional c ...\n",
      "\n",
      "Advanced & Post Reading Material (APRM) \n",
      "EPP- II, 2024-25 GLA U, Mathura \n",
      "Module-I(Verbal Skills) \n",
      "Conditionals\n",
      "If you should bump into Carol, can you tell \n",
      "her I’m looking for her?  (If by chance you \n",
      "bump into Carol.) \n",
      "1-If the government should ever find itself \n",
      "in this situation again, it is to  ...\n",
      "\n"
     ]
    },
    {
     "name": "stderr",
     "output_type": "stream",
     "text": [
      "C:\\Users\\Asus\\AppData\\Local\\Packages\\PythonSoftwareFoundation.Python.3.10_qbz5n2kfra8p0\\LocalCache\\local-packages\\Python310\\site-packages\\torch\\nn\\modules\\module.py:1762: FutureWarning: `encoder_attention_mask` is deprecated and will be removed in version 4.55.0 for `BertSdpaSelfAttention.forward`.\n",
      "  return forward_call(*args, **kwargs)\n"
     ]
    },
    {
     "name": "stdout",
     "output_type": "stream",
     "text": [
      "\n",
      "---\n",
      "Question: What does the word unless mean in conditional sentences?\n",
      "Answer:  In conditional sentences, \"unless\" means something similar to 'if not' or 'except if'. It is used to indicate a condition that must be met to avoid a certain event or action. The verb forms in the examples are similar to sentences with 'if', using the present simple in the unless-clause and shall, should, will, would, can, could, may, or might in the main clause. For example: \"Unless I phone you, you can assume the train's on time.\"\n",
      "\n",
      "Source Chunks:\n",
      "Advanced & Post Reading Material (APRM) \n",
      "EPP- II, 2024-25 GLA U, Mathura \n",
      "Module-I(Verbal Skills) \n",
      "Conditionals\n",
      "Siam Smile  if they’re not closed on a \n",
      "Monday.) \n",
      "I’ll make dinner  unless somebody else \n",
      "wants to. (or I’ll make dinner if nobody else \n",
      "wants to.) \n",
      "Can you turn the radio off  unless you’ ...\n",
      "\n",
      "Advanced & Post Reading Material (APRM) \n",
      "EPP- II, 2024-25 GLA U, Mathura \n",
      "Module-I(Verbal Skills) \n",
      "Conditionals\n",
      "If you should bump into Carol, can you tell \n",
      "her I’m looking for her?  (If by chance you \n",
      "bump into Carol.) \n",
      "1-If the government should ever find itself \n",
      "in this situation again, it is to  ...\n",
      "\n",
      "Advanced & Post Reading Material (APRM) \n",
      "EPP- II, 2024-25 GLA U, Mathura \n",
      "Module-I(Verbal Skills) \n",
      "Conditionals\n",
      "1-If the weather improves , we’ll go for a \n",
      "walk. (It is possible or likely that the \n",
      "weather will improve.) \n",
      "2-If the weather improved , we could go for \n",
      "a walk. (It is not likely that th ...\n",
      "\n",
      "Advanced & Post Reading Material (APRM) \n",
      "EPP- II, 2024-25 GLA U, Mathura \n",
      "Module-I(Verbal Skills) \n",
      "Conditionals\n",
      "Conditional sentences consist of a \n",
      "conditional clause and a main clause: \n",
      "1-[conditional clause] If a lot of people \n",
      "come, [main clause] we’ll have to get extra \n",
      "chairs. \n",
      "2-[conditional c ...\n",
      "\n"
     ]
    },
    {
     "name": "stderr",
     "output_type": "stream",
     "text": [
      "C:\\Users\\Asus\\AppData\\Local\\Packages\\PythonSoftwareFoundation.Python.3.10_qbz5n2kfra8p0\\LocalCache\\local-packages\\Python310\\site-packages\\torch\\nn\\modules\\module.py:1762: FutureWarning: `encoder_attention_mask` is deprecated and will be removed in version 4.55.0 for `BertSdpaSelfAttention.forward`.\n",
      "  return forward_call(*args, **kwargs)\n"
     ]
    },
    {
     "name": "stdout",
     "output_type": "stream",
     "text": [
      "\n",
      "---\n",
      "Question: Which conditional is used to describe imaginary past situations?\n",
      "Answer:  The third conditional is used to describe imaginary past situations. In the third conditional, we imagine a different past where something did or did not happen, and we imagine a different result. For example: \"If I had played better, I would have won.\" (I didn't play well and I didn't win.)\n",
      "\n",
      "Source Chunks:\n",
      "Advanced & Post Reading Material (APRM) \n",
      "EPP- II, 2024-25 GLA U, Mathura \n",
      "Module-I(Verbal Skills) \n",
      "Conditionals\n",
      "1-If the weather improves , we’ll go for a \n",
      "walk. (It is possible or likely that the \n",
      "weather will improve.) \n",
      "2-If the weather improved , we could go for \n",
      "a walk. (It is not likely that th ...\n",
      "\n",
      "Advanced & Post Reading Material (APRM) \n",
      "EPP- II, 2024-25 GLA U, Mathura \n",
      "Module-I(Verbal Skills) \n",
      "Conditionals\n",
      "First and second conditional \n",
      "compared \n",
      "When we use the first conditional, we think \n",
      "the imagined situation is more likely to \n",
      "happen than when we use the second \n",
      "conditionals \n",
      "Compare \n",
      "Im ...\n",
      "\n",
      "Advanced & Post Reading Material (APRM) \n",
      "EPP- II, 2024-25 GLA U, Mathura \n",
      "Module-I(Verbal Skills) \n",
      "Conditionals\n",
      "If you should bump into Carol, can you tell \n",
      "her I’m looking for her?  (If by chance you \n",
      "bump into Carol.) \n",
      "1-If the government should ever find itself \n",
      "in this situation again, it is to  ...\n",
      "\n",
      "Advanced & Post Reading Material (APRM) \n",
      "EPP- II, 2024-25 GLA U, Mathura \n",
      "Module-I(Verbal Skills) \n",
      "Conditionals\n",
      "Conditional sentences consist of a \n",
      "conditional clause and a main clause: \n",
      "1-[conditional clause] If a lot of people \n",
      "come, [main clause] we’ll have to get extra \n",
      "chairs. \n",
      "2-[conditional c ...\n",
      "\n"
     ]
    },
    {
     "name": "stderr",
     "output_type": "stream",
     "text": [
      "C:\\Users\\Asus\\AppData\\Local\\Packages\\PythonSoftwareFoundation.Python.3.10_qbz5n2kfra8p0\\LocalCache\\local-packages\\Python310\\site-packages\\torch\\nn\\modules\\module.py:1762: FutureWarning: `encoder_attention_mask` is deprecated and will be removed in version 4.55.0 for `BertSdpaSelfAttention.forward`.\n",
      "  return forward_call(*args, **kwargs)\n"
     ]
    },
    {
     "name": "stdout",
     "output_type": "stream",
     "text": [
      "\n",
      "---\n",
      "Question: Can we use would in the if-clause of a conditional sentence?\n",
      "Answer:  Yes, it is possible to use \"would\" in the if-clause of a conditional sentence. However, it should be used with the past form (\"had + past participle\") to express an unreal or unlikely condition. For example:\n",
      "\n",
      "If she would study harder, she would pass her exams. (An unreal or unlikely condition)\n",
      "\n",
      "If I would have known about this earlier, I could have helped you. (An unreal or impossible condition since the past action can't be changed)\n",
      "\n",
      "Source Chunks:\n",
      "Advanced & Post Reading Material (APRM) \n",
      "EPP- II, 2024-25 GLA U, Mathura \n",
      "Module-I(Verbal Skills) \n",
      "Conditionals\n",
      "First and second conditional \n",
      "compared \n",
      "When we use the first conditional, we think \n",
      "the imagined situation is more likely to \n",
      "happen than when we use the second \n",
      "conditionals \n",
      "Compare \n",
      "Im ...\n",
      "\n",
      "Advanced & Post Reading Material (APRM) \n",
      "EPP- II, 2024-25 GLA U, Mathura \n",
      "Module-I(Verbal Skills) \n",
      "Conditionals\n",
      "Siam Smile  if they’re not closed on a \n",
      "Monday.) \n",
      "I’ll make dinner  unless somebody else \n",
      "wants to. (or I’ll make dinner if nobody else \n",
      "wants to.) \n",
      "Can you turn the radio off  unless you’ ...\n",
      "\n",
      "Advanced & Post Reading Material (APRM) \n",
      "EPP- II, 2024-25 GLA U, Mathura \n",
      "Module-I(Verbal Skills) \n",
      "Conditionals\n",
      "If you should bump into Carol, can you tell \n",
      "her I’m looking for her?  (If by chance you \n",
      "bump into Carol.) \n",
      "1-If the government should ever find itself \n",
      "in this situation again, it is to  ...\n",
      "\n",
      "Advanced & Post Reading Material (APRM) \n",
      "EPP- II, 2024-25 GLA U, Mathura \n",
      "Module-I(Verbal Skills) \n",
      "Conditionals\n",
      "Conditional sentences consist of a \n",
      "conditional clause and a main clause: \n",
      "1-[conditional clause] If a lot of people \n",
      "come, [main clause] we’ll have to get extra \n",
      "chairs. \n",
      "2-[conditional c ...\n",
      "\n"
     ]
    },
    {
     "name": "stderr",
     "output_type": "stream",
     "text": [
      "C:\\Users\\Asus\\AppData\\Local\\Packages\\PythonSoftwareFoundation.Python.3.10_qbz5n2kfra8p0\\LocalCache\\local-packages\\Python310\\site-packages\\torch\\nn\\modules\\module.py:1762: FutureWarning: `encoder_attention_mask` is deprecated and will be removed in version 4.55.0 for `BertSdpaSelfAttention.forward`.\n",
      "  return forward_call(*args, **kwargs)\n"
     ]
    },
    {
     "name": "stdout",
     "output_type": "stream",
     "text": [
      "\n",
      "---\n",
      "Question: What is the main difference between first and second conditionals?\n",
      "Answer:  The main difference between First and Second Conditionals lies in the level of certainty or likelihood associated with the imagined situation.\n",
      "\n",
      "1. In the First Conditional, the speaker believes that the imagined situation is quite likely to happen, and a future action will occur if the imagined situation happens. For example, \"If it rains, we'll stay indoors.\" Here, there's a high probability of rain, and the action of staying indoors is a direct result.\n",
      "\n",
      "2. In the Second Conditional, the speaker discusses a hypothetical or unlikely situation in the present or future, and the outcome would occur if the imagined situation happened. However, the speaker doesn't believe that the imagined situation will actually happen. For example, \"If I won a million dollars, I'd buy a new house.\" Here, winning a million dollars is an unlikely scenario for most people, and the speaker isn't planning to buy a new house in reality.\n",
      "\n",
      "The forms of the sentences also differ:\n",
      "- First Conditional: if + present simple (conditional clause) and modal verb with future meaning (shall/should/will/would/can/could/may/might) in the main clause.\n",
      "- Second Conditional: if + past simple (conditional clause) and would in the main clause, not in the conditional clause.\n",
      "\n",
      "Source Chunks:\n",
      "Advanced & Post Reading Material (APRM) \n",
      "EPP- II, 2024-25 GLA U, Mathura \n",
      "Module-I(Verbal Skills) \n",
      "Conditionals\n",
      "1-If the weather improves , we’ll go for a \n",
      "walk. (It is possible or likely that the \n",
      "weather will improve.) \n",
      "2-If the weather improved , we could go for \n",
      "a walk. (It is not likely that th ...\n",
      "\n",
      "Advanced & Post Reading Material (APRM) \n",
      "EPP- II, 2024-25 GLA U, Mathura \n",
      "Module-I(Verbal Skills) \n",
      "Conditionals\n",
      "First and second conditional \n",
      "compared \n",
      "When we use the first conditional, we think \n",
      "the imagined situation is more likely to \n",
      "happen than when we use the second \n",
      "conditionals \n",
      "Compare \n",
      "Im ...\n",
      "\n",
      "Advanced & Post Reading Material (APRM) \n",
      "EPP- II, 2024-25 GLA U, Mathura \n",
      "Module-I(Verbal Skills) \n",
      "Conditionals\n",
      "Conditional sentences consist of a \n",
      "conditional clause and a main clause: \n",
      "1-[conditional clause] If a lot of people \n",
      "come, [main clause] we’ll have to get extra \n",
      "chairs. \n",
      "2-[conditional c ...\n",
      "\n",
      "Advanced & Post Reading Material (APRM) \n",
      "EPP- II, 2024-25 GLA U, Mathura \n",
      "Module-I(Verbal Skills) \n",
      "Conditionals\n",
      "If you should bump into Carol, can you tell \n",
      "her I’m looking for her?  (If by chance you \n",
      "bump into Carol.) \n",
      "1-If the government should ever find itself \n",
      "in this situation again, it is to  ...\n",
      "\n"
     ]
    }
   ],
   "source": [
    "questions = [\n",
    "    \"What verb tense is used in the conditional clause of a first conditional sentence?\",\n",
    "    \"What does the word unless mean in conditional sentences?\",\n",
    "    \"Which conditional is used to describe imaginary past situations?\",\n",
    "    \"Can we use would in the if-clause of a conditional sentence?\",\n",
    "    \"What is the main difference between first and second conditionals?\"\n",
    "]\n",
    "\n",
    "for q in questions:\n",
    "    result = rag_chain(q)\n",
    "    print(\"\\n---\")\n",
    "    print(f\"Question: {q}\")\n",
    "    print(f\"Answer: {result['result']}\")\n",
    "    print(\"\\nSource Chunks:\")\n",
    "    for doc in result['source_documents']:\n",
    "        print(doc.page_content[:300], \"...\\n\")"
   ]
  },
  {
   "cell_type": "markdown",
   "id": "0a19b9d1",
   "metadata": {},
   "source": [
    "### Compare with Raw LLM (No Retriever)"
   ]
  },
  {
   "cell_type": "code",
   "execution_count": 7,
   "id": "5a9db229",
   "metadata": {},
   "outputs": [
    {
     "name": "stdout",
     "output_type": "stream",
     "text": [
      "\n",
      "---\n",
      "Raw LLM Answer to: What verb tense is used in the conditional clause of a first conditional sentence?\n"
     ]
    },
    {
     "name": "stderr",
     "output_type": "stream",
     "text": [
      "C:\\Users\\Asus\\AppData\\Local\\Temp\\ipykernel_5664\\3139096677.py:2: LangChainDeprecationWarning: The class `LLMChain` was deprecated in LangChain 0.1.17 and will be removed in 1.0. Use :meth:`~RunnableSequence, e.g., `prompt | llm`` instead.\n",
      "  llm_chain = LLMChain(llm=llm, prompt=prompt)\n",
      "C:\\Users\\Asus\\AppData\\Local\\Temp\\ipykernel_5664\\3139096677.py:7: LangChainDeprecationWarning: The method `Chain.run` was deprecated in langchain 0.1.0 and will be removed in 1.0. Use :meth:`~invoke` instead.\n",
      "  print(llm_chain.run(q))\n"
     ]
    },
    {
     "name": "stdout",
     "output_type": "stream",
     "text": [
      " In a first conditional sentence, the verb in the conditional clause (if-clause) is usually in the present simple tense. For example, in the sentence \"If it rains, I will take an umbrella.\", the conditional clause \"it rains\" is in the present simple tense. However, note that some teachers might also accept the past simple form for hypothetical or timeless conditions, such as \"If it rained, I would take an umbrella.\" But the more common and accepted form for a first conditional sentence is using the present simple tense in the if-clause.\n",
      "\n",
      "---\n",
      "Raw LLM Answer to: What does the word unless mean in conditional sentences?\n",
      " In English, the word \"unless\" is used to introduce a condition that must not be met for something to occur or be true. It's often used in if-then statements, where it negates the condition, implying that if the specified event or condition does not happen, then another event or statement will follow.\n",
      "\n",
      "For example: \"I will go to the party unless it rains.\" This sentence means that the speaker will go to the party only if it doesn't rain. If it does rain, they won't go.\n",
      "\n",
      "In short, \"unless\" is used in conditional sentences to indicate a condition that must not occur or be true for something else to happen.\n",
      "\n",
      "---\n",
      "Raw LLM Answer to: Which conditional is used to describe imaginary past situations?\n",
      " The conditional that is used to describe imaginary past situations or hypothetical past events is called the Past Conditional. It is formed using the auxiliary verbs 'had' (for subject) and 'have'/'has' (for third person singular subject), followed by the base form of the main verb and past participle of the auxiliary verb for negation or questions. For example:\n",
      "\n",
      "* If I had known about the party earlier, I would have gone.\n",
      "* If she had eaten breakfast, she wouldn't feel hungry now.\n",
      "* Had he studied more, he might have passed the exam.\n",
      "* Would you have gone to the concert if it hadn't been raining?\n",
      "\n",
      "This conditional tense is used to express events that are unreal or hypothetical, and often involves a 'if' clause that describes an imaginary or impossible situation in the past.\n",
      "\n",
      "---\n",
      "Raw LLM Answer to: Can we use would in the if-clause of a conditional sentence?\n",
      " Yes, you can use \"would\" in the if-clause of a conditional sentence to indicate a hypothetical or unlikely situation. This is known as the second conditional. Here's an example:\n",
      "\n",
      "If I were rich, I would buy a big house. (This sentence implies that the speaker is not currently rich.)\n",
      "\n",
      "In contrast, if you use \"were\" without \"would,\" it usually indicates a more likely or unrealized situation in the present or past. This is called the third conditional:\n",
      "\n",
      "If I were rich, I had bought a big house by now. (This sentence implies that something happened in the past that didn't make you rich.)\n",
      "\n",
      "---\n",
      "Raw LLM Answer to: What is the main difference between first and second conditionals?\n",
      " The main difference between First Conditional and Second Conditional lies in their structure, context, and implication.\n",
      "\n",
      "1. First Conditional (If + present simple / will + infinitive): It refers to real or possible situations that are likely to happen in the future as a result of a present fact or condition. For example: \"If it rains, we will stay at home.\"\n",
      "\n",
      "2. Second Conditional (If + past simple / would + infinitive): It deals with hypothetical or imaginary situations that are unlikely to occur in the present or near future. These situations are contrary to reality for the speaker. For example: \"If I had a million dollars, I would buy a mansion.\"\n",
      "\n",
      "In summary, First Conditional is about real possibilities or predictions based on current conditions, while Second Conditional deals with hypothetical or unreal situations.\n"
     ]
    }
   ],
   "source": [
    "prompt = PromptTemplate.from_template(\"Answer the following:\\n{question}\")\n",
    "llm_chain = LLMChain(llm=llm, prompt=prompt)\n",
    "\n",
    "for q in questions:\n",
    "    print(\"\\n---\")\n",
    "    print(f\"Raw LLM Answer to: {q}\")\n",
    "    print(llm_chain.run(q))"
   ]
  }
 ],
 "metadata": {
  "kernelspec": {
   "display_name": "Python 3",
   "language": "python",
   "name": "python3"
  },
  "language_info": {
   "codemirror_mode": {
    "name": "ipython",
    "version": 3
   },
   "file_extension": ".py",
   "mimetype": "text/x-python",
   "name": "python",
   "nbconvert_exporter": "python",
   "pygments_lexer": "ipython3",
   "version": "3.10.11"
  }
 },
 "nbformat": 4,
 "nbformat_minor": 5
}
